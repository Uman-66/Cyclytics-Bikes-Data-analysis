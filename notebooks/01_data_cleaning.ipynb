{
 "cells": [
  {
   "cell_type": "code",
   "id": "initial_id",
   "metadata": {
    "collapsed": true,
    "ExecuteTime": {
     "end_time": "2025-09-02T14:45:59.212925Z",
     "start_time": "2025-09-02T14:45:56.171301Z"
    }
   },
   "source": [
    "import pandas as pd\n",
    "import  os\n",
    "from datetime import datetime\n",
    "import sqlite3\n",
    "\n",
    "\n",
    "cleaning_log = {\n",
    "    'initial_row_count': None,\n",
    "    'rows_removed_negative_duration': 0,\n",
    "    'rows_removed_over_24h': 0,\n",
    "    'final_row_count': None,\n",
    "    'pct_removed': None,\n",
    "    'output_files_saved': []\n",
    "}"
   ],
   "outputs": [],
   "execution_count": 1
  },
  {
   "metadata": {
    "ExecuteTime": {
     "end_time": "2025-09-02T14:46:13.478941Z",
     "start_time": "2025-09-02T14:45:59.229271Z"
    }
   },
   "cell_type": "code",
   "source": [
    "raw_data_path = '../data/raw/'\n",
    "all_files = [os.path.join(raw_data_path, f) for f in os.listdir(raw_data_path) if f.endswith('.csv')]\n",
    "print(\"Reading and combining all CSV files...\")\n",
    "df_list = [pd.read_csv(file) for file in all_files]\n",
    "combined_df  = pd.concat(df_list , ignore_index = True)\n",
    "\n",
    "cleaning_log['initial_row_count'] = combined_df.shape[0]\n",
    "print(f'Successfully combined {len(all_files)} CSV files. into DataFrame with {cleaning_log[\"initial_row_count\"]} rows.')"
   ],
   "id": "2068a3088ade16b1",
   "outputs": [
    {
     "name": "stdout",
     "output_type": "stream",
     "text": [
      "Reading and combining all CSV files...\n",
      "Successfully combined 12 CSV files. into DataFrame with 5860568 rows.\n"
     ]
    }
   ],
   "execution_count": 2
  },
  {
   "metadata": {
    "ExecuteTime": {
     "end_time": "2025-09-02T14:46:38.234440Z",
     "start_time": "2025-09-02T14:46:29.756388Z"
    }
   },
   "cell_type": "code",
   "source": [
    "checkpoint_path = '../data/clean/01_combined_raw.parquet'\n",
    "combined_df.to_parquet(checkpoint_path, index=False, engine='pyarrow')\n",
    "cleaning_log['output_files_saved'].append(checkpoint_path)\n",
    "print(f'Raw checkpoint saved to {checkpoint_path}.')"
   ],
   "id": "d6e0eb875cca8eab",
   "outputs": [
    {
     "name": "stdout",
     "output_type": "stream",
     "text": [
      "Raw checkpoint saved to ../data/clean/01_combined_raw.parquet.\n"
     ]
    }
   ],
   "execution_count": 3
  },
  {
   "metadata": {
    "ExecuteTime": {
     "end_time": "2025-09-02T14:46:38.343670Z",
     "start_time": "2025-09-02T14:46:38.327487Z"
    }
   },
   "cell_type": "code",
   "source": "combined_df.head()",
   "id": "91e8c924ffb4d7b",
   "outputs": [
    {
     "data": {
      "text/plain": [
       "            ride_id  rideable_type           started_at             ended_at  \\\n",
       "0  C1D650626C8C899A  electric_bike  2024-01-12 15:30:27  2024-01-12 15:37:59   \n",
       "1  EECD38BDB25BFCB0  electric_bike  2024-01-08 15:45:46  2024-01-08 15:52:59   \n",
       "2  F4A9CE78061F17F7  electric_bike  2024-01-27 12:27:19  2024-01-27 12:35:19   \n",
       "3  0A0D9E15EE50B171   classic_bike  2024-01-29 16:26:17  2024-01-29 16:56:06   \n",
       "4  33FFC9805E3EFF9A   classic_bike  2024-01-31 05:43:23  2024-01-31 06:09:35   \n",
       "\n",
       "           start_station_name start_station_id           end_station_name  \\\n",
       "0           Wells St & Elm St     KA1504000135   Kingsbury St & Kinzie St   \n",
       "1           Wells St & Elm St     KA1504000135   Kingsbury St & Kinzie St   \n",
       "2           Wells St & Elm St     KA1504000135   Kingsbury St & Kinzie St   \n",
       "3      Wells St & Randolph St     TA1305000030  Larrabee St & Webster Ave   \n",
       "4  Lincoln Ave & Waveland Ave            13253   Kingsbury St & Kinzie St   \n",
       "\n",
       "  end_station_id  start_lat  start_lng    end_lat    end_lng member_casual  \n",
       "0   KA1503000043  41.903267 -87.634737  41.889177 -87.638506        member  \n",
       "1   KA1503000043  41.902937 -87.634440  41.889177 -87.638506        member  \n",
       "2   KA1503000043  41.902951 -87.634470  41.889177 -87.638506        member  \n",
       "3          13193  41.884295 -87.633963  41.921822 -87.644140        member  \n",
       "4   KA1503000043  41.948797 -87.675278  41.889177 -87.638506        member  "
      ],
      "text/html": [
       "<div>\n",
       "<style scoped>\n",
       "    .dataframe tbody tr th:only-of-type {\n",
       "        vertical-align: middle;\n",
       "    }\n",
       "\n",
       "    .dataframe tbody tr th {\n",
       "        vertical-align: top;\n",
       "    }\n",
       "\n",
       "    .dataframe thead th {\n",
       "        text-align: right;\n",
       "    }\n",
       "</style>\n",
       "<table border=\"1\" class=\"dataframe\">\n",
       "  <thead>\n",
       "    <tr style=\"text-align: right;\">\n",
       "      <th></th>\n",
       "      <th>ride_id</th>\n",
       "      <th>rideable_type</th>\n",
       "      <th>started_at</th>\n",
       "      <th>ended_at</th>\n",
       "      <th>start_station_name</th>\n",
       "      <th>start_station_id</th>\n",
       "      <th>end_station_name</th>\n",
       "      <th>end_station_id</th>\n",
       "      <th>start_lat</th>\n",
       "      <th>start_lng</th>\n",
       "      <th>end_lat</th>\n",
       "      <th>end_lng</th>\n",
       "      <th>member_casual</th>\n",
       "    </tr>\n",
       "  </thead>\n",
       "  <tbody>\n",
       "    <tr>\n",
       "      <th>0</th>\n",
       "      <td>C1D650626C8C899A</td>\n",
       "      <td>electric_bike</td>\n",
       "      <td>2024-01-12 15:30:27</td>\n",
       "      <td>2024-01-12 15:37:59</td>\n",
       "      <td>Wells St &amp; Elm St</td>\n",
       "      <td>KA1504000135</td>\n",
       "      <td>Kingsbury St &amp; Kinzie St</td>\n",
       "      <td>KA1503000043</td>\n",
       "      <td>41.903267</td>\n",
       "      <td>-87.634737</td>\n",
       "      <td>41.889177</td>\n",
       "      <td>-87.638506</td>\n",
       "      <td>member</td>\n",
       "    </tr>\n",
       "    <tr>\n",
       "      <th>1</th>\n",
       "      <td>EECD38BDB25BFCB0</td>\n",
       "      <td>electric_bike</td>\n",
       "      <td>2024-01-08 15:45:46</td>\n",
       "      <td>2024-01-08 15:52:59</td>\n",
       "      <td>Wells St &amp; Elm St</td>\n",
       "      <td>KA1504000135</td>\n",
       "      <td>Kingsbury St &amp; Kinzie St</td>\n",
       "      <td>KA1503000043</td>\n",
       "      <td>41.902937</td>\n",
       "      <td>-87.634440</td>\n",
       "      <td>41.889177</td>\n",
       "      <td>-87.638506</td>\n",
       "      <td>member</td>\n",
       "    </tr>\n",
       "    <tr>\n",
       "      <th>2</th>\n",
       "      <td>F4A9CE78061F17F7</td>\n",
       "      <td>electric_bike</td>\n",
       "      <td>2024-01-27 12:27:19</td>\n",
       "      <td>2024-01-27 12:35:19</td>\n",
       "      <td>Wells St &amp; Elm St</td>\n",
       "      <td>KA1504000135</td>\n",
       "      <td>Kingsbury St &amp; Kinzie St</td>\n",
       "      <td>KA1503000043</td>\n",
       "      <td>41.902951</td>\n",
       "      <td>-87.634470</td>\n",
       "      <td>41.889177</td>\n",
       "      <td>-87.638506</td>\n",
       "      <td>member</td>\n",
       "    </tr>\n",
       "    <tr>\n",
       "      <th>3</th>\n",
       "      <td>0A0D9E15EE50B171</td>\n",
       "      <td>classic_bike</td>\n",
       "      <td>2024-01-29 16:26:17</td>\n",
       "      <td>2024-01-29 16:56:06</td>\n",
       "      <td>Wells St &amp; Randolph St</td>\n",
       "      <td>TA1305000030</td>\n",
       "      <td>Larrabee St &amp; Webster Ave</td>\n",
       "      <td>13193</td>\n",
       "      <td>41.884295</td>\n",
       "      <td>-87.633963</td>\n",
       "      <td>41.921822</td>\n",
       "      <td>-87.644140</td>\n",
       "      <td>member</td>\n",
       "    </tr>\n",
       "    <tr>\n",
       "      <th>4</th>\n",
       "      <td>33FFC9805E3EFF9A</td>\n",
       "      <td>classic_bike</td>\n",
       "      <td>2024-01-31 05:43:23</td>\n",
       "      <td>2024-01-31 06:09:35</td>\n",
       "      <td>Lincoln Ave &amp; Waveland Ave</td>\n",
       "      <td>13253</td>\n",
       "      <td>Kingsbury St &amp; Kinzie St</td>\n",
       "      <td>KA1503000043</td>\n",
       "      <td>41.948797</td>\n",
       "      <td>-87.675278</td>\n",
       "      <td>41.889177</td>\n",
       "      <td>-87.638506</td>\n",
       "      <td>member</td>\n",
       "    </tr>\n",
       "  </tbody>\n",
       "</table>\n",
       "</div>"
      ]
     },
     "execution_count": 4,
     "metadata": {},
     "output_type": "execute_result"
    }
   ],
   "execution_count": 4
  },
  {
   "metadata": {
    "ExecuteTime": {
     "end_time": "2025-09-02T14:46:48.366732Z",
     "start_time": "2025-09-02T14:46:38.440022Z"
    }
   },
   "cell_type": "code",
   "source": [
    "df_clean = combined_df.copy()\n",
    "df_clean['started_at'] = pd.to_datetime(df_clean['started_at'], format='%Y-%m-%d %H:%M:%S.%f', errors='coerce')\n",
    "df_clean['ended_at'] = pd.to_datetime(df_clean['ended_at'],format='%Y-%m-%d %H:%M:%S.%f', errors='coerce')"
   ],
   "id": "43e65b08214a13c2",
   "outputs": [],
   "execution_count": 5
  },
  {
   "metadata": {
    "ExecuteTime": {
     "end_time": "2025-09-02T14:46:51.173482Z",
     "start_time": "2025-09-02T14:46:48.555803Z"
    }
   },
   "cell_type": "code",
   "source": [
    "df_clean['ride_length_min'] =  (df_clean['ended_at'] - df_clean['started_at']).dt.total_seconds() / 60\n",
    "\n",
    "df_clean['days_of _week_num'] = df_clean['started_at'].dt.day_of_week\n",
    "df_clean['day_of_week'] = df_clean['started_at'].dt.day_name()\n",
    "\n",
    "df_clean['month_num'] = df_clean['started_at'].dt.month\n",
    "df_clean['month'] = df_clean['started_at'].dt.month_name()\n",
    "\n",
    "df_clean['hour'] = df_clean['started_at'].dt.hour\n",
    "df_clean['is_weekend'] = df_clean['days_of _week_num'].isin([5,6])"
   ],
   "id": "1ffa7f187736a9e8",
   "outputs": [],
   "execution_count": 6
  },
  {
   "metadata": {
    "ExecuteTime": {
     "end_time": "2025-09-02T14:46:56.426794Z",
     "start_time": "2025-09-02T14:46:51.324564Z"
    }
   },
   "cell_type": "code",
   "source": [
    "initial_rows = df_clean.shape[0]\n",
    "\n",
    "neg_mask = df_clean['ride_length_min'] <= 0\n",
    "cleaning_log['rows_removed_negative_duration'] = neg_mask.sum()\n",
    "df_clean = df_clean[~neg_mask]\n",
    "\n",
    "long_mask = df_clean['ride_length_min'] > 1440\n",
    "cleaning_log['rows_removed_over_24h'] = long_mask.sum()\n",
    "df_clean = df_clean[~long_mask]\n",
    "\n",
    "\n",
    "cleaning_log['final_row_count'] = df_clean.shape[0]\n",
    "cleaning_log['pct_removed'] = ((initial_rows - cleaning_log['final_row_count']) / initial_rows) * 100\n",
    "\n",
    "print(f\"Data Cleaning Complete. {cleaning_log['pct_removed']:.2f}% of data removed.\")"
   ],
   "id": "dcba1b799fd8e525",
   "outputs": [
    {
     "name": "stdout",
     "output_type": "stream",
     "text": [
      "Data Cleaning Complete. 0.09% of data removed.\n"
     ]
    }
   ],
   "execution_count": 7
  },
  {
   "metadata": {
    "ExecuteTime": {
     "end_time": "2025-09-02T14:47:05.247665Z",
     "start_time": "2025-09-02T14:46:56.542371Z"
    }
   },
   "cell_type": "code",
   "source": [
    "clean_data_path = '../data/clean/trips_clean.parquet'\n",
    "df_clean.to_parquet(clean_data_path, index=False, engine='pyarrow')\n",
    "cleaning_log['output_files_saved'].append(clean_data_path)\n",
    "print(f'Master cleaned data saved to {clean_data_path}.')"
   ],
   "id": "88aed4b5679c39e4",
   "outputs": [
    {
     "name": "stdout",
     "output_type": "stream",
     "text": [
      "Master cleaned data saved to ../data/clean/trips_clean.parquet.\n"
     ]
    }
   ],
   "execution_count": 8
  },
  {
   "metadata": {
    "ExecuteTime": {
     "end_time": "2025-09-02T14:47:11.825152Z",
     "start_time": "2025-09-02T14:47:05.310016Z"
    }
   },
   "cell_type": "code",
   "source": [
    "\n",
    "timestamp = datetime.now().strftime(\"%Y%m%d_%H%M%S\")\n",
    "backup_path = f'./data/clean/backups/trips_clean_{timestamp}.parquet'\n",
    "os.makedirs(os.path.dirname(backup_path), exist_ok=True) # Creates the /backups folder if it doesn't exist\n",
    "df_clean.to_parquet(backup_path, index=False)\n",
    "cleaning_log['output_files_saved'].append(backup_path)\n",
    "print(f\"Timestamped backup saved: {backup_path}\")"
   ],
   "id": "13d798284a8d524",
   "outputs": [
    {
     "name": "stdout",
     "output_type": "stream",
     "text": [
      "Timestamped backup saved: ./data/clean/backups/trips_clean_20250902_194705.parquet\n"
     ]
    }
   ],
   "execution_count": 9
  },
  {
   "metadata": {
    "ExecuteTime": {
     "end_time": "2025-09-02T14:47:11.934368Z",
     "start_time": "2025-09-02T14:47:11.892Z"
    }
   },
   "cell_type": "code",
   "source": "cleaning_log",
   "id": "a5af504dcc825491",
   "outputs": [
    {
     "data": {
      "text/plain": [
       "{'initial_row_count': 5860568,\n",
       " 'rows_removed_negative_duration': np.int64(43),\n",
       " 'rows_removed_over_24h': np.int64(5142),\n",
       " 'final_row_count': 5855383,\n",
       " 'pct_removed': 0.0884726531626286,\n",
       " 'output_files_saved': ['../data/clean/01_combined_raw.parquet',\n",
       "  '../data/clean/trips_clean.parquet',\n",
       "  './data/clean/backups/trips_clean_20250902_194705.parquet']}"
      ]
     },
     "execution_count": 10,
     "metadata": {},
     "output_type": "execute_result"
    }
   ],
   "execution_count": 10
  },
  {
   "metadata": {
    "ExecuteTime": {
     "end_time": "2025-09-02T14:47:12.053225Z",
     "start_time": "2025-09-02T14:47:12.036836Z"
    }
   },
   "cell_type": "code",
   "source": [
    "log_content = f\"\"\"\n",
    "# Data Cleaning Log\n",
    "- Date & Time: {datetime.now().strftime(\"%Y-%m-%d %H:%M:%S\")}\n",
    "- Initial Number of Rides: {cleaning_log['initial_row_count']:,}\n",
    "- Rides Removed (Negative Duration): {cleaning_log['rows_removed_negative_duration']:,}\n",
    "- Rides Removed (>24 hours): {cleaning_log['rows_removed_over_24h']:,}\n",
    "- Final Number of Rides: {cleaning_log['final_row_count']:,}\n",
    "- Percentage of Data Removed: {cleaning_log['pct_removed']:.2f}%\n",
    "- **Output Files Created:**\n",
    "\"\"\"\n",
    "for file in cleaning_log['output_files_saved']:\n",
    "    log_content += f\"  - `{file}`\\n\"\n",
    "\n",
    "log_file_path = './data_cleaning_log.md'\n",
    "with open(log_file_path, 'w') as f:\n",
    "    f.write(log_content)\n",
    "print(f\"Cleaning log saved to: {log_file_path}\")\n",
    "\n",
    "print(log_content)"
   ],
   "id": "489268fcc0c3406b",
   "outputs": [
    {
     "name": "stdout",
     "output_type": "stream",
     "text": [
      "Cleaning log saved to: ./data_cleaning_log.md\n",
      "\n",
      "# Data Cleaning Log\n",
      "- Date & Time: 2025-09-02 19:47:12\n",
      "- Initial Number of Rides: 5,860,568\n",
      "- Rides Removed (Negative Duration): 43\n",
      "- Rides Removed (>24 hours): 5,142\n",
      "- Final Number of Rides: 5,855,383\n",
      "- Percentage of Data Removed: 0.09%\n",
      "- **Output Files Created:**\n",
      "  - `../data/clean/01_combined_raw.parquet`\n",
      "  - `../data/clean/trips_clean.parquet`\n",
      "  - `./data/clean/backups/trips_clean_20250902_194705.parquet`\n",
      "\n"
     ]
    }
   ],
   "execution_count": 11
  },
  {
   "metadata": {
    "ExecuteTime": {
     "end_time": "2025-09-02T14:47:45.369213Z",
     "start_time": "2025-09-02T14:47:12.101077Z"
    }
   },
   "cell_type": "code",
   "source": [
    "\n",
    "db_path = '../data/clean/cyclistic.db'\n",
    "conn = sqlite3.connect(db_path)\n",
    "print(f\"Database connected: {db_path}\")\n",
    "\n",
    "df_clean.to_sql('cyclistic_trips', conn, if_exists='replace', index=False)\n",
    "print(\"Data successfully loaded into SQL table 'cyclistic_trips'.\")\n",
    "\n",
    "\n",
    "conn.close()\n",
    "print(\"Database connection closed.\")"
   ],
   "id": "8ce22f35ec66c521",
   "outputs": [
    {
     "name": "stdout",
     "output_type": "stream",
     "text": [
      "Database connected: ../data/clean/cyclistic.db\n",
      "Data successfully loaded into SQL table 'cyclistic_trips'.\n",
      "Database connection closed.\n"
     ]
    }
   ],
   "execution_count": 12
  }
 ],
 "metadata": {
  "kernelspec": {
   "display_name": "Python 3",
   "language": "python",
   "name": "python3"
  },
  "language_info": {
   "codemirror_mode": {
    "name": "ipython",
    "version": 2
   },
   "file_extension": ".py",
   "mimetype": "text/x-python",
   "name": "python",
   "nbconvert_exporter": "python",
   "pygments_lexer": "ipython2",
   "version": "2.7.6"
  }
 },
 "nbformat": 4,
 "nbformat_minor": 5
}
