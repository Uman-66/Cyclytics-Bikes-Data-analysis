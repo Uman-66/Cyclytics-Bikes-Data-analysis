{
 "cells": [
  {
   "cell_type": "code",
   "id": "initial_id",
   "metadata": {
    "collapsed": true,
    "ExecuteTime": {
     "end_time": "2025-09-11T12:49:51.531964Z",
     "start_time": "2025-09-11T12:49:51.101064Z"
    }
   },
   "source": [
    "import pandas as pd\n",
    "import sqlite3\n",
    "\n",
    "from duckdb.duckdb import query"
   ],
   "outputs": [],
   "execution_count": 1
  },
  {
   "metadata": {
    "ExecuteTime": {
     "end_time": "2025-09-11T12:49:51.541637Z",
     "start_time": "2025-09-11T12:49:51.538723Z"
    }
   },
   "cell_type": "code",
   "source": "db_path = '../data/clean/cyclistic.db'\n",
   "id": "1b0e05784f68e9fb",
   "outputs": [],
   "execution_count": 2
  },
  {
   "metadata": {
    "ExecuteTime": {
     "end_time": "2025-09-11T12:49:59.651660Z",
     "start_time": "2025-09-11T12:49:59.646984Z"
    }
   },
   "cell_type": "code",
   "source": [
    "conn = sqlite3.connect(db_path)\n",
    "print(\"Connected to database successfully!\")"
   ],
   "id": "f5507254c5ab34e",
   "outputs": [
    {
     "name": "stdout",
     "output_type": "stream",
     "text": [
      "Connected to database successfully!\n"
     ]
    }
   ],
   "execution_count": 3
  },
  {
   "metadata": {
    "ExecuteTime": {
     "end_time": "2025-09-11T12:50:20.091852Z",
     "start_time": "2025-09-11T12:50:18.899485Z"
    }
   },
   "cell_type": "code",
   "source": [
    "query0 = \"\"\"\n",
    "DELETE FROM cyclistic_trips\n",
    "WHERE\n",
    "    ride_id IS NULL OR\n",
    "    rideable_type IS NULL OR\n",
    "    started_at IS NULL OR\n",
    "    ended_at IS NULL OR\n",
    "    start_station_name IS NULL OR\n",
    "    start_station_id IS NULL OR\n",
    "    end_station_name IS NULL OR\n",
    "    end_station_id IS NULL OR\n",
    "    start_lat IS NULL OR\n",
    "    start_lng IS NULL OR\n",
    "    end_lat IS NULL OR\n",
    "    end_lng IS NULL OR\n",
    "    member_casual IS NULL OR\n",
    "    ride_length_min IS NULL;\n",
    "\"\"\"\n",
    "cursor = conn.cursor()\n",
    "cursor.execute(query0)\n",
    "conn.commit()\n",
    "print(f\"Removed {cursor.rowcount} rows with NULL values\")\n"
   ],
   "id": "e839c4eebf8de2c7",
   "outputs": [
    {
     "name": "stdout",
     "output_type": "stream",
     "text": [
      "Removed 0 rows with NULL values\n"
     ]
    }
   ],
   "execution_count": 5
  },
  {
   "metadata": {
    "ExecuteTime": {
     "end_time": "2025-09-11T12:50:28.858798Z",
     "start_time": "2025-09-11T12:50:28.855462Z"
    }
   },
   "cell_type": "code",
   "source": [
    "query1 = \"\"\"\n",
    "SELECT\n",
    "    member_casual AS user_type,\n",
    "    AVG(ride_length_min) AS avg_ride_length_min,\n",
    "    COUNT(*) AS total_ride_length_min\n",
    "FROM cyclistic_trips\n",
    "GROUP BY member_casual\n",
    "\"\"\""
   ],
   "id": "4aafc7d8439523e1",
   "outputs": [],
   "execution_count": 7
  },
  {
   "metadata": {
    "ExecuteTime": {
     "end_time": "2025-09-11T12:50:31.374697Z",
     "start_time": "2025-09-11T12:50:29.527904Z"
    }
   },
   "cell_type": "code",
   "source": [
    "avg_duration_df = pd.read_sql(query1, conn)\n",
    "print(avg_duration_df)\n",
    "\n",
    "avg_duration_df.to_csv('../outputs/tables/avg_ride_duration_by_type.csv', index=False)"
   ],
   "id": "5605192a618d4f52",
   "outputs": [
    {
     "name": "stdout",
     "output_type": "stream",
     "text": [
      "  user_type  avg_ride_length_min  total_ride_length_min\n",
      "0    casual            23.953679                1521432\n",
      "1    member            12.448205                2686516\n"
     ]
    }
   ],
   "execution_count": 8
  },
  {
   "metadata": {
    "ExecuteTime": {
     "end_time": "2025-09-11T12:50:31.462854Z",
     "start_time": "2025-09-11T12:50:31.460357Z"
    }
   },
   "cell_type": "code",
   "source": [
    "query2 = (\"\"\"\n",
    "SELECT\n",
    "    day_of_week,\n",
    "    member_casual AS user_type,\n",
    "    COUNT(*) AS number_of_rides\n",
    "FROM cyclistic_trips\n",
    "GROUP BY day_of_week, user_type\n",
    "ORDER BY\n",
    "    CASE day_of_week\n",
    "        WHEN 'Monday' THEN 1\n",
    "        WHEN 'Tuesday' THEN 2\n",
    "        WHEN 'Wednesday' THEN 3\n",
    "        WHEN 'Thursday' THEN 4\n",
    "        WHEN 'Friday' THEN 5\n",
    "        WHEN 'Saturday' THEN 6\n",
    "        WHEN 'Sunday' THEN 7\n",
    "    END\"\"\")"
   ],
   "id": "f22320de4a76883e",
   "outputs": [],
   "execution_count": 9
  },
  {
   "metadata": {
    "ExecuteTime": {
     "end_time": "2025-09-11T12:50:34.502359Z",
     "start_time": "2025-09-11T12:50:31.488336Z"
    }
   },
   "cell_type": "code",
   "source": [
    "rides_by_day_df = pd.read_sql_query(query2, conn)\n",
    "print(rides_by_day_df)\n",
    "rides_by_day_df.to_csv('../outputs/tables/rides_by_day_of_week.csv', index=False)\n",
    "print(\"Query 2 results saved\")"
   ],
   "id": "ffcad8916f39e7d3",
   "outputs": [
    {
     "name": "stdout",
     "output_type": "stream",
     "text": [
      "   day_of_week user_type  number_of_rides\n",
      "0       Monday    casual           181642\n",
      "1       Monday    member           399232\n",
      "2      Tuesday    casual           162819\n",
      "3      Tuesday    member           421399\n",
      "4    Wednesday    casual           187342\n",
      "5    Wednesday    member           446866\n",
      "6     Thursday    casual           183059\n",
      "7     Thursday    member           414236\n",
      "8       Friday    casual           222616\n",
      "9       Friday    member           376718\n",
      "10    Saturday    casual           317804\n",
      "11    Saturday    member           332556\n",
      "12      Sunday    casual           266150\n",
      "13      Sunday    member           295509\n",
      "Query 2 results saved\n"
     ]
    }
   ],
   "execution_count": 10
  },
  {
   "metadata": {
    "ExecuteTime": {
     "end_time": "2025-09-11T12:50:34.536585Z",
     "start_time": "2025-09-11T12:50:34.534062Z"
    }
   },
   "cell_type": "code",
   "source": [
    "query3 = \"\"\"\n",
    "SELECT\n",
    "    hour,\n",
    "    member_casual AS user_type,\n",
    "    COUNT(*) AS number_of_rides\n",
    "FROM cyclistic_trips\n",
    "GROUP BY hour, user_type\n",
    "ORDER BY hour;\n",
    "\"\"\""
   ],
   "id": "206b893c7ff77ac9",
   "outputs": [],
   "execution_count": 11
  },
  {
   "metadata": {
    "ExecuteTime": {
     "end_time": "2025-09-11T12:50:37.173690Z",
     "start_time": "2025-09-11T12:50:34.545897Z"
    }
   },
   "cell_type": "code",
   "source": [
    "rides_by_hour_df = pd.read_sql_query(query3, conn)\n",
    "print(rides_by_hour_df)\n",
    "rides_by_hour_df.to_csv('../outputs/tables/rides_by_hour.csv', index=False)\n",
    "print(\"Query 3 results saved!\")"
   ],
   "id": "935ad8435a056f4c",
   "outputs": [
    {
     "name": "stdout",
     "output_type": "stream",
     "text": [
      "    hour user_type  number_of_rides\n",
      "0      0    casual            22283\n",
      "1      0    member            19664\n",
      "2      1    casual            14795\n",
      "3      1    member            11507\n",
      "4      2    casual             8712\n",
      "5      2    member             6220\n",
      "6      3    casual             4737\n",
      "7      3    member             4248\n",
      "8      4    casual             3723\n",
      "9      4    member             5433\n",
      "10     5    casual             8254\n",
      "11     5    member            25804\n",
      "12     6    casual            20089\n",
      "13     6    member            80488\n",
      "14     7    casual            38746\n",
      "15     7    member           156714\n",
      "16     8    casual            54376\n",
      "17     8    member           193854\n",
      "18     9    casual            55208\n",
      "19     9    member           127251\n",
      "20    10    casual            70298\n",
      "21    10    member           111491\n",
      "22    11    casual            89531\n",
      "23    11    member           129733\n",
      "24    12    casual           104717\n",
      "25    12    member           147855\n",
      "26    13    casual           108601\n",
      "27    13    member           147442\n",
      "28    14    casual           112597\n",
      "29    14    member           148203\n",
      "30    15    casual           122723\n",
      "31    15    member           182760\n",
      "32    16    casual           138844\n",
      "33    16    member           254239\n",
      "34    17    casual           146713\n",
      "35    17    member           293641\n",
      "36    18    casual           120923\n",
      "37    18    member           218968\n",
      "38    19    casual            86939\n",
      "39    19    member           151392\n",
      "40    20    casual            62741\n",
      "41    20    member           104523\n",
      "42    21    casual            50652\n",
      "43    21    member            77861\n",
      "44    22    casual            44469\n",
      "45    22    member            54182\n",
      "46    23    casual            30761\n",
      "47    23    member            33043\n",
      "Query 3 results saved!\n"
     ]
    }
   ],
   "execution_count": 12
  },
  {
   "metadata": {
    "ExecuteTime": {
     "end_time": "2025-09-11T12:50:37.209342Z",
     "start_time": "2025-09-11T12:50:37.206724Z"
    }
   },
   "cell_type": "code",
   "source": [
    "query4 = \"\"\"\n",
    "SELECT\n",
    "    start_station_name,\n",
    "    COUNT(*) AS number_of_casual_rides\n",
    "FROM cyclistic_trips\n",
    "WHERE member_casual = 'casual'\n",
    "    AND start_station_name IS NOT NULL\n",
    "GROUP BY start_station_name\n",
    "ORDER BY number_of_casual_rides DESC\n",
    "LIMIT 10;\n",
    "\"\"\""
   ],
   "id": "5e533e357d48b73c",
   "outputs": [],
   "execution_count": 13
  },
  {
   "metadata": {
    "ExecuteTime": {
     "end_time": "2025-09-11T12:50:38.553407Z",
     "start_time": "2025-09-11T12:50:37.218321Z"
    }
   },
   "cell_type": "code",
   "source": [
    "top_casual_stations_df = pd.read_sql_query(query4, conn)\n",
    "print(top_casual_stations_df)\n",
    "top_casual_stations_df.to_csv('../outputs/tables/top_10_casual_stations.csv', index=False)\n",
    "print(\"Query 4 results saved!\")"
   ],
   "id": "e674c13467a87f46",
   "outputs": [
    {
     "name": "stdout",
     "output_type": "stream",
     "text": [
      "                   start_station_name  number_of_casual_rides\n",
      "0             Streeter Dr & Grand Ave                   48314\n",
      "1   DuSable Lake Shore Dr & Monroe St                   32194\n",
      "2               Michigan Ave & Oak St                   23294\n",
      "3  DuSable Lake Shore Dr & North Blvd                   21356\n",
      "4                     Millennium Park                   20838\n",
      "5                      Shedd Aquarium                   20117\n",
      "6                      Dusable Harbor                   17262\n",
      "7                 Theater on the Lake                   15398\n",
      "8               Michigan Ave & 8th St                   12554\n",
      "9                   Adler Planetarium                   12272\n",
      "Query 4 results saved!\n"
     ]
    }
   ],
   "execution_count": 14
  },
  {
   "metadata": {
    "ExecuteTime": {
     "end_time": "2025-09-11T12:50:38.597227Z",
     "start_time": "2025-09-11T12:50:38.595216Z"
    }
   },
   "cell_type": "code",
   "source": [
    "query5 = \"\"\"\n",
    "SELECT\n",
    "    rideable_type,\n",
    "    member_casual AS user_type,\n",
    "    COUNT(*) AS number_of_rides\n",
    "FROM cyclistic_trips\n",
    "GROUP BY rideable_type, user_type;\n",
    "\"\"\""
   ],
   "id": "18b8452f177e05b5",
   "outputs": [],
   "execution_count": 15
  },
  {
   "metadata": {
    "ExecuteTime": {
     "end_time": "2025-09-11T12:50:42.597769Z",
     "start_time": "2025-09-11T12:50:39.156376Z"
    }
   },
   "cell_type": "code",
   "source": [
    "bike_type_df = pd.read_sql_query(query5, conn)\n",
    "print(bike_type_df)\n",
    "bike_type_df.to_csv('../outputs/tables/bike_type_preference.csv', index=False)\n",
    "print(\"Query 5 results saved!\")"
   ],
   "id": "baf9978b9ed45183",
   "outputs": [
    {
     "name": "stdout",
     "output_type": "stream",
     "text": [
      "      rideable_type user_type  number_of_rides\n",
      "0      classic_bike    casual           968748\n",
      "1      classic_bike    member          1759173\n",
      "2     electric_bike    casual           526944\n",
      "3     electric_bike    member           905256\n",
      "4  electric_scooter    casual            25740\n",
      "5  electric_scooter    member            22087\n",
      "Query 5 results saved!\n"
     ]
    }
   ],
   "execution_count": 16
  },
  {
   "metadata": {
    "ExecuteTime": {
     "end_time": "2025-09-11T12:54:13.201351Z",
     "start_time": "2025-09-11T12:54:13.192063Z"
    }
   },
   "cell_type": "code",
   "source": [
    "conn.close()\n",
    "print(\"Database connection closed. Analysis complete!\")"
   ],
   "id": "c6ea39dd657cdd4c",
   "outputs": [
    {
     "name": "stdout",
     "output_type": "stream",
     "text": [
      "Database connection closed. Analysis complete!\n"
     ]
    }
   ],
   "execution_count": 21
  },
  {
   "metadata": {},
   "cell_type": "code",
   "outputs": [],
   "execution_count": null,
   "source": "",
   "id": "efd4be56e87112c"
  }
 ],
 "metadata": {
  "kernelspec": {
   "display_name": "Python 3",
   "language": "python",
   "name": "python3"
  },
  "language_info": {
   "codemirror_mode": {
    "name": "ipython",
    "version": 2
   },
   "file_extension": ".py",
   "mimetype": "text/x-python",
   "name": "python",
   "nbconvert_exporter": "python",
   "pygments_lexer": "ipython2",
   "version": "2.7.6"
  }
 },
 "nbformat": 4,
 "nbformat_minor": 5
}
