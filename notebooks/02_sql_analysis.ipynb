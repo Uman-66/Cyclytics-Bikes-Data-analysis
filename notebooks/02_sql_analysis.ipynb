{
 "cells": [
  {
   "cell_type": "code",
   "id": "initial_id",
   "metadata": {
    "collapsed": true,
    "ExecuteTime": {
     "end_time": "2025-09-05T10:51:10.428267Z",
     "start_time": "2025-09-05T10:51:08.402792Z"
    }
   },
   "source": [
    "import pandas as pd\n",
    "import sqlite3\n",
    "import matplotlib.pyplot as plt\n",
    "%matplotlib inline"
   ],
   "outputs": [],
   "execution_count": 1
  },
  {
   "metadata": {
    "ExecuteTime": {
     "end_time": "2025-09-05T10:51:10.444182Z",
     "start_time": "2025-09-05T10:51:10.441746Z"
    }
   },
   "cell_type": "code",
   "source": "db_path = '../data/clean/cyclistic.db'\n",
   "id": "1b0e05784f68e9fb",
   "outputs": [],
   "execution_count": 2
  },
  {
   "metadata": {
    "ExecuteTime": {
     "end_time": "2025-09-05T10:51:10.462204Z",
     "start_time": "2025-09-05T10:51:10.458165Z"
    }
   },
   "cell_type": "code",
   "source": [
    "conn = sqlite3.connect(db_path)\n",
    "print(\"Connected to database successfully!\")"
   ],
   "id": "f5507254c5ab34e",
   "outputs": [
    {
     "name": "stdout",
     "output_type": "stream",
     "text": [
      "Connected to database successfully!\n"
     ]
    }
   ],
   "execution_count": 3
  },
  {
   "metadata": {
    "ExecuteTime": {
     "end_time": "2025-09-05T10:51:10.583925Z",
     "start_time": "2025-09-05T10:51:10.581577Z"
    }
   },
   "cell_type": "code",
   "source": [
    "query1 = \"\"\"\n",
    "SELECT\n",
    "    member_casual AS user_type,\n",
    "    AVG(ride_length_min) AS avg_ride_length_min,\n",
    "    COUNT(*) AS total_ride_length_min\n",
    "FROM cyclistic_trips\n",
    "GROUP BY member_casual\n",
    "\"\"\""
   ],
   "id": "4aafc7d8439523e1",
   "outputs": [],
   "execution_count": 4
  },
  {
   "metadata": {
    "ExecuteTime": {
     "end_time": "2025-09-05T10:51:21.851938Z",
     "start_time": "2025-09-05T10:51:18.173189Z"
    }
   },
   "cell_type": "code",
   "source": [
    "avg_duration_df = pd.read_sql(query1, conn)\n",
    "print(avg_duration_df)\n",
    "\n",
    "avg_duration_df.to_csv('../outputs/tables/avg_ride_duration_by_type.csv', index=False)"
   ],
   "id": "5605192a618d4f52",
   "outputs": [
    {
     "name": "stdout",
     "output_type": "stream",
     "text": [
      "  user_type  avg_ride_length_min  total_ride_length_min\n",
      "0    casual            20.926092                2145244\n",
      "1    member            12.195021                3707005\n"
     ]
    }
   ],
   "execution_count": 5
  },
  {
   "metadata": {
    "ExecuteTime": {
     "end_time": "2025-09-05T10:57:13.226903Z",
     "start_time": "2025-09-05T10:57:13.224150Z"
    }
   },
   "cell_type": "code",
   "source": [
    "query2 = (\"\"\"\n",
    "SELECT\n",
    "    day_of_week,\n",
    "    member_casual AS user_type,\n",
    "    COUNT(*) AS number_of_rides\n",
    "FROM cyclistic_trips\n",
    "GROUP BY day_of_week, user_type\n",
    "ORDER BY\n",
    "    CASE day_of_week\n",
    "        WHEN 'Monday' THEN 1\n",
    "        WHEN 'Tuesday' THEN 2\n",
    "        WHEN 'Wednesday' THEN 3\n",
    "        WHEN 'Thursday' THEN 4\n",
    "        WHEN 'Friday' THEN 5\n",
    "        WHEN 'Saturday' THEN 6\n",
    "        WHEN 'Sunday' THEN 7\n",
    "    END\"\"\")"
   ],
   "id": "f22320de4a76883e",
   "outputs": [],
   "execution_count": 15
  },
  {
   "metadata": {
    "ExecuteTime": {
     "end_time": "2025-09-05T10:57:18.952672Z",
     "start_time": "2025-09-05T10:57:13.751817Z"
    }
   },
   "cell_type": "code",
   "source": [
    "rides_by_day_df = pd.read_sql_query(query2, conn)\n",
    "print(rides_by_day_df)\n",
    "rides_by_day_df.to_csv('../outputs/tables/rides_by_day_of_week.csv', index=False)\n",
    "print(\"Query 2 results saved\")"
   ],
   "id": "ffcad8916f39e7d3",
   "outputs": [
    {
     "name": "stdout",
     "output_type": "stream",
     "text": [
      "   day_of_week user_type  number_of_rides\n",
      "0       Monday    casual           252900\n",
      "1       Monday    member           534344\n",
      "2      Tuesday    casual           231817\n",
      "3      Tuesday    member           570387\n",
      "4    Wednesday    casual           268632\n",
      "5    Wednesday    member           609954\n",
      "6     Thursday    casual           264401\n",
      "7     Thursday    member           570300\n",
      "8       Friday    casual           314918\n",
      "9       Friday    member           525583\n",
      "10    Saturday    casual           444005\n",
      "11    Saturday    member           479440\n",
      "12      Sunday    casual           368571\n",
      "13      Sunday    member           416997\n",
      "Query 2 results saved\n"
     ]
    }
   ],
   "execution_count": 16
  },
  {
   "metadata": {
    "ExecuteTime": {
     "end_time": "2025-09-05T11:33:52.065983Z",
     "start_time": "2025-09-05T11:33:52.048125Z"
    }
   },
   "cell_type": "code",
   "source": [
    "query3 = \"\"\"\n",
    "SELECT\n",
    "    hour,\n",
    "    member_casual AS user_type,\n",
    "    COUNT(*) AS number_of_rides\n",
    "FROM cyclistic_trips\n",
    "GROUP BY hour, user_type\n",
    "ORDER BY hour;\n",
    "\"\"\""
   ],
   "id": "206b893c7ff77ac9",
   "outputs": [],
   "execution_count": 17
  },
  {
   "metadata": {
    "ExecuteTime": {
     "end_time": "2025-09-05T11:34:05.498070Z",
     "start_time": "2025-09-05T11:33:59.709842Z"
    }
   },
   "cell_type": "code",
   "source": [
    "rides_by_hour_df = pd.read_sql_query(query3, conn)\n",
    "print(rides_by_hour_df)\n",
    "rides_by_hour_df.to_csv('../outputs/tables/rides_by_hour.csv', index=False)\n",
    "print(\"Query 3 results saved!\")"
   ],
   "id": "935ad8435a056f4c",
   "outputs": [
    {
     "name": "stdout",
     "output_type": "stream",
     "text": [
      "    hour user_type  number_of_rides\n",
      "0      0    casual            35260\n",
      "1      0    member            32743\n",
      "2      1    casual            23577\n",
      "3      1    member            20060\n",
      "4      2    casual            14638\n",
      "5      2    member            11383\n",
      "6      3    casual             8136\n",
      "7      3    member             7819\n",
      "8      4    casual             6402\n",
      "9      4    member             8711\n",
      "10     5    casual            12105\n",
      "11     5    member            34593\n",
      "12     6    casual            28710\n",
      "13     6    member           104009\n",
      "14     7    casual            53421\n",
      "15     7    member           200308\n",
      "16     8    casual            75633\n",
      "17     8    member           255232\n",
      "18     9    casual            76438\n",
      "19     9    member           173796\n",
      "20    10    casual            94210\n",
      "21    10    member           153199\n",
      "22    11    casual           120004\n",
      "23    11    member           178917\n",
      "24    12    casual           142007\n",
      "25    12    member           204666\n",
      "26    13    casual           148139\n",
      "27    13    member           204557\n",
      "28    14    casual           154309\n",
      "29    14    member           204906\n",
      "30    15    casual           169664\n",
      "31    15    member           251089\n",
      "32    16    casual           190936\n",
      "33    16    member           342922\n",
      "34    17    casual           203453\n",
      "35    17    member           393034\n",
      "36    18    casual           173471\n",
      "37    18    member           306560\n",
      "38    19    casual           127888\n",
      "39    19    member           215048\n",
      "40    20    casual            93546\n",
      "41    20    member           150772\n",
      "42    21    casual            77823\n",
      "43    21    member           115813\n",
      "44    22    casual            67926\n",
      "45    22    member            83935\n",
      "46    23    casual            47548\n",
      "47    23    member            52933\n",
      "Query 3 results saved!\n"
     ]
    }
   ],
   "execution_count": 18
  },
  {
   "metadata": {
    "ExecuteTime": {
     "end_time": "2025-09-05T11:35:34.715805Z",
     "start_time": "2025-09-05T11:35:34.710139Z"
    }
   },
   "cell_type": "code",
   "source": [
    "query4 = \"\"\"\n",
    "SELECT\n",
    "    start_station_name,\n",
    "    COUNT(*) AS number_of_casual_rides\n",
    "FROM cyclistic_trips\n",
    "WHERE member_casual = 'casual'\n",
    "    AND start_station_name IS NOT NULL\n",
    "GROUP BY start_station_name\n",
    "ORDER BY number_of_casual_rides DESC\n",
    "LIMIT 10;\n",
    "\"\"\""
   ],
   "id": "5e533e357d48b73c",
   "outputs": [],
   "execution_count": 19
  },
  {
   "metadata": {
    "ExecuteTime": {
     "end_time": "2025-09-05T11:35:48.228538Z",
     "start_time": "2025-09-05T11:35:45.220197Z"
    }
   },
   "cell_type": "code",
   "source": [
    "top_casual_stations_df = pd.read_sql_query(query4, conn)\n",
    "print(top_casual_stations_df)\n",
    "top_casual_stations_df.to_csv('../outputs/tables/top_10_casual_stations.csv', index=False)\n",
    "print(\"Query 4 results saved!\")"
   ],
   "id": "e674c13467a87f46",
   "outputs": [
    {
     "name": "stdout",
     "output_type": "stream",
     "text": [
      "                   start_station_name  number_of_casual_rides\n",
      "0             Streeter Dr & Grand Ave                   50903\n",
      "1   DuSable Lake Shore Dr & Monroe St                   33965\n",
      "2               Michigan Ave & Oak St                   25058\n",
      "3  DuSable Lake Shore Dr & North Blvd                   23033\n",
      "4                     Millennium Park                   22498\n",
      "5                      Shedd Aquarium                   21020\n",
      "6                      Dusable Harbor                   18390\n",
      "7                 Theater on the Lake                   16773\n",
      "8               Michigan Ave & 8th St                   13456\n",
      "9                   Adler Planetarium                   12879\n",
      "Query 4 results saved!\n"
     ]
    }
   ],
   "execution_count": 20
  },
  {
   "metadata": {
    "ExecuteTime": {
     "end_time": "2025-09-05T11:36:20.781659Z",
     "start_time": "2025-09-05T11:36:20.776111Z"
    }
   },
   "cell_type": "code",
   "source": [
    "query5 = \"\"\"\n",
    "SELECT\n",
    "    rideable_type,\n",
    "    member_casual AS user_type,\n",
    "    COUNT(*) AS number_of_rides\n",
    "FROM cyclistic_trips\n",
    "GROUP BY rideable_type, user_type;\n",
    "\"\"\""
   ],
   "id": "18b8452f177e05b5",
   "outputs": [],
   "execution_count": 21
  },
  {
   "metadata": {
    "ExecuteTime": {
     "end_time": "2025-09-05T11:36:32.722289Z",
     "start_time": "2025-09-05T11:36:28.292043Z"
    }
   },
   "cell_type": "code",
   "source": [
    "bike_type_df = pd.read_sql_query(query5, conn)\n",
    "print(bike_type_df)\n",
    "bike_type_df.to_csv('../outputs/tables/bike_type_preference.csv', index=False)\n",
    "print(\"Query 5 results saved!\")"
   ],
   "id": "baf9978b9ed45183",
   "outputs": [
    {
     "name": "stdout",
     "output_type": "stream",
     "text": [
      "      rideable_type user_type  number_of_rides\n",
      "0      classic_bike    casual           968778\n",
      "1      classic_bike    member          1759184\n",
      "2     electric_bike    casual          1091251\n",
      "3     electric_bike    member          1888699\n",
      "4  electric_scooter    casual            85215\n",
      "5  electric_scooter    member            59122\n",
      "Query 5 results saved!\n"
     ]
    }
   ],
   "execution_count": 22
  },
  {
   "metadata": {
    "ExecuteTime": {
     "end_time": "2025-09-05T11:36:43.157777Z",
     "start_time": "2025-09-05T11:36:43.130994Z"
    }
   },
   "cell_type": "code",
   "source": [
    "# !! ALWAYS CLOSE THE CONNECTION !!\n",
    "conn.close()\n",
    "print(\"Database connection closed. Analysis complete!\")"
   ],
   "id": "c6ea39dd657cdd4c",
   "outputs": [
    {
     "name": "stdout",
     "output_type": "stream",
     "text": [
      "Database connection closed. Analysis complete!\n"
     ]
    }
   ],
   "execution_count": 23
  },
  {
   "metadata": {},
   "cell_type": "code",
   "outputs": [],
   "execution_count": null,
   "source": "",
   "id": "a278af3334d3107b"
  }
 ],
 "metadata": {
  "kernelspec": {
   "display_name": "Python 3",
   "language": "python",
   "name": "python3"
  },
  "language_info": {
   "codemirror_mode": {
    "name": "ipython",
    "version": 2
   },
   "file_extension": ".py",
   "mimetype": "text/x-python",
   "name": "python",
   "nbconvert_exporter": "python",
   "pygments_lexer": "ipython2",
   "version": "2.7.6"
  }
 },
 "nbformat": 4,
 "nbformat_minor": 5
}
